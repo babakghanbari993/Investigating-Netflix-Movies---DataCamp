{
 "cells": [
  {
   "cell_type": "markdown",
   "id": "937acf3c-c077-4ca6-8d90-8f6dd4d13c54",
   "metadata": {},
   "source": [
    "<center><img src=\"redpopcorn.jpg\"></center>"
   ]
  },
  {
   "cell_type": "markdown",
   "id": "5962b2cd-17bb-4ec9-b2d5-68537ca26860",
   "metadata": {},
   "source": [
    "**Netflix**! What started in 1997 as a DVD rental service has since exploded into one of the largest entertainment and media companies.\n",
    "\n",
    "Given the large number of movies and series available on the platform, it is a perfect opportunity to flex your exploratory data analysis skills and dive into the entertainment industry.\n",
    "\n",
    "You work for a production company that specializes in nostalgic styles. You want to do some research on movies released in the 1990's. You'll delve into Netflix data and perform exploratory data analysis to better understand this awesome movie decade!\n",
    "\n",
    "You have been supplied with the dataset `netflix_data.csv`, along with the following table detailing the column names and descriptions. Feel free to experiment further after submitting!\n",
    "\n",
    "## The data\n",
    "### **netflix_data.csv**\n",
    "| Column | Description |\n",
    "|--------|-------------|\n",
    "| `show_id` | The ID of the show |\n",
    "| `type` | Type of show |\n",
    "| `title` | Title of the show |\n",
    "| `director` | Director of the show |\n",
    "| `cast` | Cast of the show |\n",
    "| `country` | Country of origin |\n",
    "| `date_added` | Date added to Netflix |\n",
    "| `release_year` | Year of Netflix release |\n",
    "| `duration` | Duration of the show in minutes |\n",
    "| `description` | Description of the show |\n",
    "| `genre` | Show genre |"
   ]
  },
  {
   "cell_type": "code",
   "execution_count": 1,
   "id": "320a3abc-8a36-4b2b-baaf-473325363a4d",
   "metadata": {
    "executionCancelledAt": null,
    "executionTime": 34,
    "lastExecutedAt": 1733050653259,
    "lastExecutedByKernel": "486a512a-bd52-4666-99b1-da43e7c917d1",
    "lastScheduledRunId": null,
    "lastSuccessfullyExecutedCode": "# Importing pandas and matplotlib\nimport pandas as pd\nimport matplotlib.pyplot as plt\nimport numpy as np\n# Read in the Netflix CSV as a DataFrame\nnetflix_df = pd.read_csv(\"netflix_data.csv\")"
   },
   "outputs": [],
   "source": [
    "# Importing pandas and matplotlib\n",
    "import pandas as pd\n",
    "import matplotlib.pyplot as plt\n",
    "import numpy as np\n",
    "# Read in the Netflix CSV as a DataFrame\n",
    "netflix_df = pd.read_csv(\"netflix_data.csv\")"
   ]
  },
  {
   "cell_type": "code",
   "execution_count": 2,
   "id": "6d672fd0-05e9-45ef-a35f-e224f9f3bc57",
   "metadata": {
    "executionCancelledAt": null,
    "executionTime": 244,
    "lastExecutedAt": 1733050653549,
    "lastExecutedByKernel": "486a512a-bd52-4666-99b1-da43e7c917d1",
    "lastScheduledRunId": null,
    "lastSuccessfullyExecutedCode": "#most freequent movies in 1990 = MFM_1990\nMFM_1990 = netflix_df[netflix_df[\"release_year\"] == 1990]\nplt.hist(MFM_1990[\"duration\"])\nduration = 110\nprint(MFM_1990[[\"duration\"]])",
    "outputsMetadata": {
     "0": {
      "height": 353,
      "type": "stream"
     }
    }
   },
   "outputs": [
    {
     "name": "stdout",
     "output_type": "stream",
     "text": [
      "      duration\n",
      "240        174\n",
      "1116       165\n",
      "1281        88\n",
      "1504       163\n",
      "1569       145\n",
      "1852        94\n",
      "2110         1\n",
      "2328        88\n",
      "3135       120\n",
      "3263       104\n",
      "3483       168\n",
      "4411        30\n",
      "4456       114\n",
      "4480        96\n",
      "4566        95\n"
     ]
    },
    {
     "data": {
      "image/png": "[encoded data removed]",
      "text/plain": [
       "<Figure size 640x480 with 1 Axes>"
      ]
     },
     "metadata": {},
     "output_type": "display_data"
    }
   ],
   "source": [
    "#most freequent movies in 1990 = MFM_1990\n",
    "MFM_1990 = netflix_df[netflix_df[\"release_year\"] == 1990]\n",
    "plt.hist(MFM_1990[\"duration\"])\n",
    "duration = 110\n",
    "print(MFM_1990[[\"duration\"]])"
   ]
  },
  {
   "cell_type": "code",
   "execution_count": 3,
   "id": "da5679d6-7fca-4c8d-b9f0-c7490c308f00",
   "metadata": {
    "executionCancelledAt": null,
    "executionTime": 52,
    "lastExecutedAt": 1733050653601,
    "lastExecutedByKernel": "486a512a-bd52-4666-99b1-da43e7c917d1",
    "lastScheduledRunId": null,
    "lastSuccessfullyExecutedCode": "#movies in 1990s = MFM_1990s\nMFM_1990s = netflix_df[np.logical_and(netflix_df[\"release_year\"] >= 1990, netflix_df[\"release_year\"] < 2000)]\nshort_action_movie = MFM_1990s[np.logical_and(MFM_1990s[\"genre\"] == \"Action\", MFM_1990s[\"duration\"] < 90)]\nshort_movie_count = len(short_action_movie)",
    "outputsMetadata": {
     "0": {
      "height": 227,
      "type": "stream"
     }
    }
   },
   "outputs": [],
   "source": [
    "#movies in 1990s = MFM_1990s\n",
    "MFM_1990s = netflix_df[np.logical_and(netflix_df[\"release_year\"] >= 1990, netflix_df[\"release_year\"] < 2000)]\n",
    "short_action_movie = MFM_1990s[np.logical_and(MFM_1990s[\"genre\"] == \"Action\", MFM_1990s[\"duration\"] < 90)]\n",
    "short_movie_count = len(short_action_movie)"
   ]
  }
 ],
 "metadata": {
  "colab": {
   "name": "Welcome to DataCamp Workspaces.ipynb",
   "provenance": []
  },
  "editor": "DataLab",
  "kernelspec": {
   "display_name": "Python 3",
   "language": "python",
   "name": "python3"
  },
  "language_info": {
   "codemirror_mode": {
    "name": "ipython",
    "version": 3
   },
   "file_extension": ".py",
   "mimetype": "text/x-python",
   "name": "python",
   "nbconvert_exporter": "python",
   "pygments_lexer": "ipython3",
   "version": "3.12.3"
  }
 },
 "nbformat": 4,
 "nbformat_minor": 5
}
